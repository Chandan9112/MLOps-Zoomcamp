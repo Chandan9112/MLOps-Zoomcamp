{
 "cells": [
  {
   "cell_type": "code",
   "execution_count": 1,
   "id": "bcccca0b-bef1-4082-a42f-c1370b314f59",
   "metadata": {},
   "outputs": [
    {
     "name": "stdout",
     "output_type": "stream",
     "text": [
      "C:\\Users\\cmaurya\\AppData\\Local\\Programs\\Python\\Python313\\python.exe\n"
     ]
    }
   ],
   "source": [
    "import sys\n",
    "print(sys.executable)\n"
   ]
  },
  {
   "cell_type": "code",
   "execution_count": 2,
   "id": "77643cfc-c2fc-4297-9425-e7c5bf24b059",
   "metadata": {},
   "outputs": [],
   "source": [
    "import pandas as pd\n"
   ]
  },
  {
   "cell_type": "code",
   "execution_count": 3,
   "id": "25258e97-580f-4306-9d61-e5c815d96972",
   "metadata": {},
   "outputs": [
    {
     "data": {
      "text/plain": [
       "'2.3.1'"
      ]
     },
     "execution_count": 3,
     "metadata": {},
     "output_type": "execute_result"
    }
   ],
   "source": [
    "pd.__version__"
   ]
  },
  {
   "cell_type": "code",
   "execution_count": 4,
   "id": "c019f1eb-685a-4be4-845f-15436f577fe2",
   "metadata": {},
   "outputs": [],
   "source": [
    "import sklearn"
   ]
  },
  {
   "cell_type": "code",
   "execution_count": 5,
   "id": "b1202fb7-5c5e-4e9c-b31a-7df387d59d93",
   "metadata": {},
   "outputs": [
    {
     "data": {
      "text/plain": [
       "'1.7.0'"
      ]
     },
     "execution_count": 5,
     "metadata": {},
     "output_type": "execute_result"
    }
   ],
   "source": [
    "sklearn.__version__\n"
   ]
  },
  {
   "cell_type": "code",
   "execution_count": 9,
   "id": "a65ac016-83f5-4b08-8349-7288b4f8bae3",
   "metadata": {},
   "outputs": [],
   "source": [
    "df = pd.read_parquet('https://d37ci6vzurychx.cloudfront.net/trip-data/green_tripdata_2025-01.parquet')"
   ]
  },
  {
   "cell_type": "code",
   "execution_count": 7,
   "id": "15991616-45cb-4034-9ba3-df5a547e5cd6",
   "metadata": {},
   "outputs": [
    {
     "name": "stdout",
     "output_type": "stream",
     "text": [
      "Collecting pyarrow\n",
      "  Downloading pyarrow-20.0.0-cp313-cp313-win_amd64.whl.metadata (3.4 kB)\n",
      "Downloading pyarrow-20.0.0-cp313-cp313-win_amd64.whl (25.7 MB)\n",
      "   ---------------------------------------- 0.0/25.7 MB ? eta -:--:--\n",
      "   ---------------------------------------- 0.3/25.7 MB ? eta -:--:--\n",
      "   --- ------------------------------------ 2.4/25.7 MB 9.9 MB/s eta 0:00:03\n",
      "   -------- ------------------------------- 5.5/25.7 MB 12.2 MB/s eta 0:00:02\n",
      "   ------------- -------------------------- 8.4/25.7 MB 12.9 MB/s eta 0:00:02\n",
      "   ------------------ --------------------- 11.8/25.7 MB 13.4 MB/s eta 0:00:02\n",
      "   ---------------------- ----------------- 14.7/25.7 MB 13.7 MB/s eta 0:00:01\n",
      "   -------------------------- ------------- 17.3/25.7 MB 13.4 MB/s eta 0:00:01\n",
      "   ------------------------------- -------- 20.4/25.7 MB 13.6 MB/s eta 0:00:01\n",
      "   ------------------------------------- -- 23.9/25.7 MB 13.9 MB/s eta 0:00:01\n",
      "   ---------------------------------------  25.4/25.7 MB 14.0 MB/s eta 0:00:01\n",
      "   ---------------------------------------- 25.7/25.7 MB 12.9 MB/s eta 0:00:00\n",
      "Installing collected packages: pyarrow\n",
      "Successfully installed pyarrow-20.0.0\n"
     ]
    }
   ],
   "source": [
    "!pip install pyarrow"
   ]
  },
  {
   "cell_type": "code",
   "execution_count": 10,
   "id": "5ad5a3ae-9476-4d0a-983c-d8f9a9555ec2",
   "metadata": {},
   "outputs": [
    {
     "data": {
      "text/html": [
       "<div>\n",
       "<style scoped>\n",
       "    .dataframe tbody tr th:only-of-type {\n",
       "        vertical-align: middle;\n",
       "    }\n",
       "\n",
       "    .dataframe tbody tr th {\n",
       "        vertical-align: top;\n",
       "    }\n",
       "\n",
       "    .dataframe thead th {\n",
       "        text-align: right;\n",
       "    }\n",
       "</style>\n",
       "<table border=\"1\" class=\"dataframe\">\n",
       "  <thead>\n",
       "    <tr style=\"text-align: right;\">\n",
       "      <th></th>\n",
       "      <th>VendorID</th>\n",
       "      <th>lpep_pickup_datetime</th>\n",
       "      <th>lpep_dropoff_datetime</th>\n",
       "      <th>store_and_fwd_flag</th>\n",
       "      <th>RatecodeID</th>\n",
       "      <th>PULocationID</th>\n",
       "      <th>DOLocationID</th>\n",
       "      <th>passenger_count</th>\n",
       "      <th>trip_distance</th>\n",
       "      <th>fare_amount</th>\n",
       "      <th>...</th>\n",
       "      <th>mta_tax</th>\n",
       "      <th>tip_amount</th>\n",
       "      <th>tolls_amount</th>\n",
       "      <th>ehail_fee</th>\n",
       "      <th>improvement_surcharge</th>\n",
       "      <th>total_amount</th>\n",
       "      <th>payment_type</th>\n",
       "      <th>trip_type</th>\n",
       "      <th>congestion_surcharge</th>\n",
       "      <th>cbd_congestion_fee</th>\n",
       "    </tr>\n",
       "  </thead>\n",
       "  <tbody>\n",
       "    <tr>\n",
       "      <th>0</th>\n",
       "      <td>2</td>\n",
       "      <td>2025-01-01 00:03:01</td>\n",
       "      <td>2025-01-01 00:17:12</td>\n",
       "      <td>N</td>\n",
       "      <td>1.0</td>\n",
       "      <td>75</td>\n",
       "      <td>235</td>\n",
       "      <td>1.0</td>\n",
       "      <td>5.93</td>\n",
       "      <td>24.70</td>\n",
       "      <td>...</td>\n",
       "      <td>0.5</td>\n",
       "      <td>6.80</td>\n",
       "      <td>0.00</td>\n",
       "      <td>NaN</td>\n",
       "      <td>1.0</td>\n",
       "      <td>34.00</td>\n",
       "      <td>1.0</td>\n",
       "      <td>1.0</td>\n",
       "      <td>0.00</td>\n",
       "      <td>0.0</td>\n",
       "    </tr>\n",
       "    <tr>\n",
       "      <th>1</th>\n",
       "      <td>2</td>\n",
       "      <td>2025-01-01 00:19:59</td>\n",
       "      <td>2025-01-01 00:25:52</td>\n",
       "      <td>N</td>\n",
       "      <td>1.0</td>\n",
       "      <td>166</td>\n",
       "      <td>75</td>\n",
       "      <td>1.0</td>\n",
       "      <td>1.32</td>\n",
       "      <td>8.60</td>\n",
       "      <td>...</td>\n",
       "      <td>0.5</td>\n",
       "      <td>0.00</td>\n",
       "      <td>0.00</td>\n",
       "      <td>NaN</td>\n",
       "      <td>1.0</td>\n",
       "      <td>11.10</td>\n",
       "      <td>2.0</td>\n",
       "      <td>1.0</td>\n",
       "      <td>0.00</td>\n",
       "      <td>0.0</td>\n",
       "    </tr>\n",
       "    <tr>\n",
       "      <th>2</th>\n",
       "      <td>2</td>\n",
       "      <td>2025-01-01 00:05:29</td>\n",
       "      <td>2025-01-01 00:07:21</td>\n",
       "      <td>N</td>\n",
       "      <td>5.0</td>\n",
       "      <td>171</td>\n",
       "      <td>73</td>\n",
       "      <td>1.0</td>\n",
       "      <td>0.41</td>\n",
       "      <td>25.55</td>\n",
       "      <td>...</td>\n",
       "      <td>0.0</td>\n",
       "      <td>0.00</td>\n",
       "      <td>0.00</td>\n",
       "      <td>NaN</td>\n",
       "      <td>1.0</td>\n",
       "      <td>26.55</td>\n",
       "      <td>2.0</td>\n",
       "      <td>2.0</td>\n",
       "      <td>0.00</td>\n",
       "      <td>0.0</td>\n",
       "    </tr>\n",
       "    <tr>\n",
       "      <th>3</th>\n",
       "      <td>2</td>\n",
       "      <td>2025-01-01 00:52:24</td>\n",
       "      <td>2025-01-01 01:07:52</td>\n",
       "      <td>N</td>\n",
       "      <td>1.0</td>\n",
       "      <td>74</td>\n",
       "      <td>223</td>\n",
       "      <td>1.0</td>\n",
       "      <td>4.12</td>\n",
       "      <td>21.20</td>\n",
       "      <td>...</td>\n",
       "      <td>0.5</td>\n",
       "      <td>6.13</td>\n",
       "      <td>6.94</td>\n",
       "      <td>NaN</td>\n",
       "      <td>1.0</td>\n",
       "      <td>36.77</td>\n",
       "      <td>1.0</td>\n",
       "      <td>1.0</td>\n",
       "      <td>0.00</td>\n",
       "      <td>0.0</td>\n",
       "    </tr>\n",
       "    <tr>\n",
       "      <th>4</th>\n",
       "      <td>2</td>\n",
       "      <td>2025-01-01 00:25:05</td>\n",
       "      <td>2025-01-01 01:01:10</td>\n",
       "      <td>N</td>\n",
       "      <td>1.0</td>\n",
       "      <td>66</td>\n",
       "      <td>158</td>\n",
       "      <td>1.0</td>\n",
       "      <td>4.71</td>\n",
       "      <td>33.80</td>\n",
       "      <td>...</td>\n",
       "      <td>0.5</td>\n",
       "      <td>7.81</td>\n",
       "      <td>0.00</td>\n",
       "      <td>NaN</td>\n",
       "      <td>1.0</td>\n",
       "      <td>46.86</td>\n",
       "      <td>1.0</td>\n",
       "      <td>1.0</td>\n",
       "      <td>2.75</td>\n",
       "      <td>0.0</td>\n",
       "    </tr>\n",
       "  </tbody>\n",
       "</table>\n",
       "<p>5 rows × 21 columns</p>\n",
       "</div>"
      ],
      "text/plain": [
       "   VendorID lpep_pickup_datetime lpep_dropoff_datetime store_and_fwd_flag  \\\n",
       "0         2  2025-01-01 00:03:01   2025-01-01 00:17:12                  N   \n",
       "1         2  2025-01-01 00:19:59   2025-01-01 00:25:52                  N   \n",
       "2         2  2025-01-01 00:05:29   2025-01-01 00:07:21                  N   \n",
       "3         2  2025-01-01 00:52:24   2025-01-01 01:07:52                  N   \n",
       "4         2  2025-01-01 00:25:05   2025-01-01 01:01:10                  N   \n",
       "\n",
       "   RatecodeID  PULocationID  DOLocationID  passenger_count  trip_distance  \\\n",
       "0         1.0            75           235              1.0           5.93   \n",
       "1         1.0           166            75              1.0           1.32   \n",
       "2         5.0           171            73              1.0           0.41   \n",
       "3         1.0            74           223              1.0           4.12   \n",
       "4         1.0            66           158              1.0           4.71   \n",
       "\n",
       "   fare_amount  ...  mta_tax  tip_amount  tolls_amount  ehail_fee  \\\n",
       "0        24.70  ...      0.5        6.80          0.00        NaN   \n",
       "1         8.60  ...      0.5        0.00          0.00        NaN   \n",
       "2        25.55  ...      0.0        0.00          0.00        NaN   \n",
       "3        21.20  ...      0.5        6.13          6.94        NaN   \n",
       "4        33.80  ...      0.5        7.81          0.00        NaN   \n",
       "\n",
       "   improvement_surcharge  total_amount  payment_type  trip_type  \\\n",
       "0                    1.0         34.00           1.0        1.0   \n",
       "1                    1.0         11.10           2.0        1.0   \n",
       "2                    1.0         26.55           2.0        2.0   \n",
       "3                    1.0         36.77           1.0        1.0   \n",
       "4                    1.0         46.86           1.0        1.0   \n",
       "\n",
       "   congestion_surcharge  cbd_congestion_fee  \n",
       "0                  0.00                 0.0  \n",
       "1                  0.00                 0.0  \n",
       "2                  0.00                 0.0  \n",
       "3                  0.00                 0.0  \n",
       "4                  2.75                 0.0  \n",
       "\n",
       "[5 rows x 21 columns]"
      ]
     },
     "execution_count": 10,
     "metadata": {},
     "output_type": "execute_result"
    }
   ],
   "source": [
    "df.head()"
   ]
  },
  {
   "cell_type": "code",
   "execution_count": null,
   "id": "95ccc1d6-d5e4-427f-ad55-4867dbf11314",
   "metadata": {},
   "outputs": [],
   "source": []
  }
 ],
 "metadata": {
  "kernelspec": {
   "display_name": "Python 3 (ipykernel)",
   "language": "python",
   "name": "python3"
  },
  "language_info": {
   "codemirror_mode": {
    "name": "ipython",
    "version": 3
   },
   "file_extension": ".py",
   "mimetype": "text/x-python",
   "name": "python",
   "nbconvert_exporter": "python",
   "pygments_lexer": "ipython3",
   "version": "3.13.5"
  }
 },
 "nbformat": 4,
 "nbformat_minor": 5
}
